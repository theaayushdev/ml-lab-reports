{
 "cells": [
  {
   "cell_type": "code",
   "execution_count": 6,
   "id": "c4d4084c-33d6-420b-8a19-86a8c187443f",
   "metadata": {},
   "outputs": [],
   "source": [
    "import pandas as pd"
   ]
  },
  {
   "cell_type": "code",
   "execution_count": 15,
   "id": "91d57d6e-4d80-45bc-9124-a8c91f2c096e",
   "metadata": {},
   "outputs": [
    {
     "name": "stdout",
     "output_type": "stream",
     "text": [
      "Full Data:\n",
      "      Name  Age Grade Passed\n",
      "0    Alice   20     A    Yes\n",
      "1      Bob   22     B    Yes\n",
      "2  Charlie   21     C     No\n",
      "3    David   23     B    Yes\n",
      "4      Eva   20     A    Yes\n",
      "5     wolf   22     B    Yes\n",
      "6     gwen   21     C     No\n",
      "7   Hannah   23     B    Yes\n",
      "8      Ivy   20     A    Yes\n",
      "\n",
      "Students who Failed:\n",
      "2    C\n",
      "6    C\n",
      "Name: Grade, dtype: object\n"
     ]
    }
   ],
   "source": [
    "df = pd.read_csv('students.csv')\n",
    "\n",
    "\n",
    "print(\"Full Data:\")\n",
    "print(df)\n",
    "\n",
    "\n",
    "print(\"\\nStudents who Failed:\")\n",
    "print(df[df['Passed'] == 'No']['Grade'])\n",
    "\n",
    "# print(\"\\nGrade Count:\")\n",
    "# print(df['Grade'].value_counts())\n"
   ]
  }
 ],
 "metadata": {
  "kernelspec": {
   "display_name": "Python 3",
   "language": "python",
   "name": "python3"
  },
  "language_info": {
   "codemirror_mode": {
    "name": "ipython",
    "version": 3
   },
   "file_extension": ".py",
   "mimetype": "text/x-python",
   "name": "python",
   "nbconvert_exporter": "python",
   "pygments_lexer": "ipython3",
   "version": "3.13.3"
  }
 },
 "nbformat": 4,
 "nbformat_minor": 5
}
