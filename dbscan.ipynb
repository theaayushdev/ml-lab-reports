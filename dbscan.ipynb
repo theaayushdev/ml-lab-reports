{
 "cells": [
  {
   "cell_type": "code",
   "execution_count": 23,
   "id": "1d261503-e08b-4b43-a632-d6768bd45965",
   "metadata": {},
   "outputs": [],
   "source": [
    "import numpy as np\n",
    "import pandas as pd\n",
    "import matplotlib.pyplot as plt\n",
    "from sklearn.cluster import DBSCAN\n",
    "from sklearn.preprocessing import StandardScaler"
   ]
  },
  {
   "cell_type": "code",
   "execution_count": 48,
   "id": "7eb7f615-1d14-44a6-832e-56d75026ff9d",
   "metadata": {},
   "outputs": [],
   "source": [
    "# Data\n",
    "data = {\n",
    "    'Math':    [85, 70, 92, 55, 73, 40, 65, 90, 58, 78, 62, 95],\n",
    "    'Science':  [78, 75, 88, 60, 70, 45, 60, 85, 62, 80, 65, 98],\n",
    "    'English':  [90, 68, 95, 58, 72, 42, 67, 88, 60, 76, 68, 92],\n",
    "    'Performance': [1,1,1,0,0,0,1,1,1,0,0,0]\n",
    "}\n",
    "df = pd.DataFrame(data)"
   ]
  },
  {
   "cell_type": "code",
   "execution_count": 50,
   "id": "085a7df0-ebcf-4300-880d-986cc02ffec1",
   "metadata": {},
   "outputs": [],
   "source": [
    "# Features\n",
    "X = df[['Math', 'Science', 'English']]\n",
    "y_true = df['Performance']"
   ]
  },
  {
   "cell_type": "code",
   "execution_count": 52,
   "id": "a87e6ec0-004f-4d00-97e4-bd5ec1b2ccb2",
   "metadata": {},
   "outputs": [],
   "source": [
    "# Fix: Scale the features\n",
    "scaler = StandardScaler()\n",
    "X_scaled = scaler.fit_transform(X)"
   ]
  },
  {
   "cell_type": "code",
   "execution_count": 67,
   "id": "f33e29f9-628f-4df5-b3c9-6635ab0dfdf9",
   "metadata": {},
   "outputs": [],
   "source": [
    "# Apply DBSCAN\n",
    "db = DBSCAN(eps=0.5, min_samples=2)\n",
    "y_cluster = db.fit_predict(X_scaled)\n",
    "\n"
   ]
  },
  {
   "cell_type": "code",
   "execution_count": 69,
   "id": "00248b10-32fe-4820-a525-27986e45c3c2",
   "metadata": {},
   "outputs": [],
   "source": [
    "# Add cluster to DataFrame\n",
    "df['cluster'] = y_cluster"
   ]
  },
  {
   "cell_type": "code",
   "execution_count": 71,
   "id": "d640b385-f3c4-4f0c-9d6b-a3c138b3f8df",
   "metadata": {},
   "outputs": [
    {
     "name": "stdout",
     "output_type": "stream",
     "text": [
      "    Math  Science  English  Performance  cluster\n",
      "0     85       78       90            1       -1\n",
      "1     70       75       68            1        0\n",
      "2     92       88       95            1       -1\n",
      "3     55       60       58            0        1\n",
      "4     73       70       72            0        0\n",
      "5     40       45       42            0       -1\n",
      "6     65       60       67            1        2\n",
      "7     90       85       88            1       -1\n",
      "8     58       62       60            1        1\n",
      "9     78       80       76            0       -1\n",
      "10    62       65       68            0        2\n",
      "11    95       98       92            0       -1\n"
     ]
    }
   ],
   "source": [
    "# Output\n",
    "print(df)"
   ]
  },
  {
   "cell_type": "markdown",
   "id": "2b905dff-c2d7-408d-8c12-eb9450220714",
   "metadata": {},
   "source": [
    "### we conclude the DBScan\n"
   ]
  },
  {
   "cell_type": "code",
   "execution_count": null,
   "id": "245b6049-a684-4c33-b956-788de01db4d8",
   "metadata": {},
   "outputs": [],
   "source": []
  },
  {
   "cell_type": "code",
   "execution_count": null,
   "id": "0bebca20-811a-4b06-ac30-78d3c6578e88",
   "metadata": {},
   "outputs": [],
   "source": []
  },
  {
   "cell_type": "code",
   "execution_count": null,
   "id": "d6ff7160-a3d3-4f7d-bb8b-c5571646e9bd",
   "metadata": {},
   "outputs": [],
   "source": []
  }
 ],
 "metadata": {
  "kernelspec": {
   "display_name": "Python [conda env:base] *",
   "language": "python",
   "name": "conda-base-py"
  },
  "language_info": {
   "codemirror_mode": {
    "name": "ipython",
    "version": 3
   },
   "file_extension": ".py",
   "mimetype": "text/x-python",
   "name": "python",
   "nbconvert_exporter": "python",
   "pygments_lexer": "ipython3",
   "version": "3.12.7"
  }
 },
 "nbformat": 4,
 "nbformat_minor": 5
}
